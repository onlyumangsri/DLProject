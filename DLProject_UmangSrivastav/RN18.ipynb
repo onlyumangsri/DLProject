{
  "cells": [
    {
      "attachments": {},
      "cell_type": "markdown",
      "metadata": {},
      "source": [
        "# Author: Umang Srivastav"
      ]
    },
    {
      "attachments": {},
      "cell_type": "markdown",
      "metadata": {},
      "source": [
        "Trained ResNet18 on CIFAR100."
      ]
    },
    {
      "cell_type": "code",
      "execution_count": null,
      "metadata": {
        "colab": {
          "base_uri": "https://localhost:8080/"
        },
        "id": "LRb99XU-AzTp",
        "outputId": "6e895fa5-f4f9-4d28-b75d-1e6fec1be27f"
      },
      "outputs": [
        {
          "name": "stdout",
          "output_type": "stream",
          "text": [
            "Downloading https://www.cs.toronto.edu/~kriz/cifar-100-python.tar.gz to ./data/cifar-100-python.tar.gz\n"
          ]
        },
        {
          "name": "stderr",
          "output_type": "stream",
          "text": [
            "100%|██████████| 169001437/169001437 [00:13<00:00, 12855908.08it/s]\n"
          ]
        },
        {
          "name": "stdout",
          "output_type": "stream",
          "text": [
            "Extracting ./data/cifar-100-python.tar.gz to ./data\n",
            "Files already downloaded and verified\n"
          ]
        },
        {
          "name": "stderr",
          "output_type": "stream",
          "text": [
            "/usr/local/lib/python3.9/dist-packages/torchvision/models/_utils.py:208: UserWarning: The parameter 'pretrained' is deprecated since 0.13 and may be removed in the future, please use 'weights' instead.\n",
            "  warnings.warn(\n",
            "/usr/local/lib/python3.9/dist-packages/torchvision/models/_utils.py:223: UserWarning: Arguments other than a weight enum or `None` for 'weights' are deprecated since 0.13 and may be removed in the future. The current behavior is equivalent to passing `weights=None`.\n",
            "  warnings.warn(msg)\n"
          ]
        },
        {
          "name": "stdout",
          "output_type": "stream",
          "text": [
            "Epoch [1/100], Test Accuracy: 14.13%\n",
            "Epoch [2/100], Test Accuracy: 20.08%\n",
            "Epoch [3/100], Test Accuracy: 24.91%\n",
            "Epoch [4/100], Test Accuracy: 28.42%\n",
            "Epoch [5/100], Test Accuracy: 29.74%\n",
            "Epoch [6/100], Test Accuracy: 33.80%\n",
            "Epoch [7/100], Test Accuracy: 36.02%\n",
            "Epoch [8/100], Test Accuracy: 36.77%\n",
            "Epoch [9/100], Test Accuracy: 39.40%\n",
            "Epoch [10/100], Test Accuracy: 40.20%\n",
            "Epoch [11/100], Test Accuracy: 40.85%\n",
            "Epoch [12/100], Test Accuracy: 41.95%\n",
            "Epoch [13/100], Test Accuracy: 42.18%\n",
            "Epoch [14/100], Test Accuracy: 43.57%\n",
            "Epoch [15/100], Test Accuracy: 43.94%\n",
            "Epoch [16/100], Test Accuracy: 44.28%\n",
            "Epoch [17/100], Test Accuracy: 45.73%\n",
            "Epoch [18/100], Test Accuracy: 44.61%\n",
            "Epoch [19/100], Test Accuracy: 46.11%\n",
            "Epoch [20/100], Test Accuracy: 46.22%\n",
            "Epoch [21/100], Test Accuracy: 46.00%\n",
            "Epoch [22/100], Test Accuracy: 46.26%\n",
            "Epoch [23/100], Test Accuracy: 46.14%\n",
            "Epoch [24/100], Test Accuracy: 46.70%\n",
            "Epoch [25/100], Test Accuracy: 46.97%\n",
            "Epoch [26/100], Test Accuracy: 47.10%\n",
            "Epoch [27/100], Test Accuracy: 47.67%\n",
            "Epoch [28/100], Test Accuracy: 46.64%\n",
            "Epoch [29/100], Test Accuracy: 46.90%\n",
            "Epoch [30/100], Test Accuracy: 47.93%\n",
            "Epoch [31/100], Test Accuracy: 47.28%\n",
            "Epoch [32/100], Test Accuracy: 46.96%\n",
            "Epoch [33/100], Test Accuracy: 47.74%\n",
            "Epoch [34/100], Test Accuracy: 47.11%\n",
            "Epoch [35/100], Test Accuracy: 47.59%\n",
            "Epoch [36/100], Test Accuracy: 47.77%\n",
            "Epoch [37/100], Test Accuracy: 48.13%\n",
            "Epoch [38/100], Test Accuracy: 47.87%\n",
            "Epoch [39/100], Test Accuracy: 48.10%\n",
            "Epoch [40/100], Test Accuracy: 47.78%\n",
            "Epoch [41/100], Test Accuracy: 47.33%\n",
            "Epoch [42/100], Test Accuracy: 48.26%\n",
            "Epoch [43/100], Test Accuracy: 47.76%\n",
            "Epoch [44/100], Test Accuracy: 47.26%\n",
            "Epoch [45/100], Test Accuracy: 47.67%\n",
            "Epoch [46/100], Test Accuracy: 47.60%\n",
            "Epoch [47/100], Test Accuracy: 47.60%\n",
            "Epoch [48/100], Test Accuracy: 47.68%\n",
            "Epoch [49/100], Test Accuracy: 47.79%\n",
            "Epoch [50/100], Test Accuracy: 48.17%\n",
            "Epoch [51/100], Test Accuracy: 47.46%\n",
            "Epoch [52/100], Test Accuracy: 48.21%\n",
            "Epoch [53/100], Test Accuracy: 46.88%\n",
            "Epoch [54/100], Test Accuracy: 48.45%\n",
            "Epoch [55/100], Test Accuracy: 47.43%\n",
            "Epoch [56/100], Test Accuracy: 47.70%\n",
            "Epoch [57/100], Test Accuracy: 47.98%\n",
            "Epoch [58/100], Test Accuracy: 48.15%\n",
            "Epoch [59/100], Test Accuracy: 48.52%\n",
            "Epoch [60/100], Test Accuracy: 48.27%\n",
            "Epoch [61/100], Test Accuracy: 48.07%\n",
            "Epoch [62/100], Test Accuracy: 48.15%\n",
            "Epoch [63/100], Test Accuracy: 47.26%\n",
            "Epoch [64/100], Test Accuracy: 47.50%\n",
            "Epoch [65/100], Test Accuracy: 47.51%\n",
            "Epoch [66/100], Test Accuracy: 47.08%\n",
            "Epoch [67/100], Test Accuracy: 47.59%\n",
            "Epoch [68/100], Test Accuracy: 47.56%\n",
            "Epoch [69/100], Test Accuracy: 48.27%\n",
            "Epoch [70/100], Test Accuracy: 47.94%\n",
            "Epoch [71/100], Test Accuracy: 47.69%\n",
            "Epoch [72/100], Test Accuracy: 48.34%\n",
            "Epoch [73/100], Test Accuracy: 47.87%\n",
            "Epoch [74/100], Test Accuracy: 47.95%\n",
            "Epoch [75/100], Test Accuracy: 47.45%\n",
            "Epoch [76/100], Test Accuracy: 47.62%\n",
            "Epoch [77/100], Test Accuracy: 47.70%\n",
            "Epoch [78/100], Test Accuracy: 47.66%\n",
            "Epoch [79/100], Test Accuracy: 47.79%\n",
            "Epoch [80/100], Test Accuracy: 47.75%\n",
            "Epoch [81/100], Test Accuracy: 47.82%\n",
            "Epoch [82/100], Test Accuracy: 46.48%\n",
            "Epoch [83/100], Test Accuracy: 47.95%\n",
            "Epoch [84/100], Test Accuracy: 47.44%\n",
            "Epoch [85/100], Test Accuracy: 48.07%\n",
            "Epoch [86/100], Test Accuracy: 47.22%\n",
            "Epoch [87/100], Test Accuracy: 47.19%\n",
            "Epoch [88/100], Test Accuracy: 48.39%\n",
            "Epoch [89/100], Test Accuracy: 48.09%\n",
            "Epoch [90/100], Test Accuracy: 48.43%\n",
            "Epoch [91/100], Test Accuracy: 47.73%\n",
            "Epoch [92/100], Test Accuracy: 46.93%\n",
            "Epoch [93/100], Test Accuracy: 47.89%\n",
            "Epoch [94/100], Test Accuracy: 47.13%\n",
            "Epoch [95/100], Test Accuracy: 47.93%\n",
            "Epoch [96/100], Test Accuracy: 48.14%\n",
            "Epoch [97/100], Test Accuracy: 48.62%\n",
            "Epoch [98/100], Test Accuracy: 48.04%\n",
            "Epoch [99/100], Test Accuracy: 47.87%\n",
            "Epoch [100/100], Test Accuracy: 47.54%\n"
          ]
        }
      ],
      "source": [
        "import torch\n",
        "import torchvision.datasets as datasets\n",
        "import torchvision.transforms as transforms\n",
        "import torchvision.models as models\n",
        "\n",
        "transform = transforms.Compose([\n",
        "    transforms.RandomCrop(32, padding=4),\n",
        "    transforms.RandomHorizontalFlip(),\n",
        "    transforms.ToTensor(),\n",
        "    transforms.Normalize(mean=[0.5071, 0.4865, 0.4409],\n",
        "                         std=[0.2673, 0.2564, 0.2762])\n",
        "])\n",
        "\n",
        "train_dataset = datasets.CIFAR100(root='./data', train=True, download=True, transform=transform)\n",
        "test_dataset = datasets.CIFAR100(root='./data', train=False, download=True, transform=transform)\n",
        "\n",
        "train_loader = torch.utils.data.DataLoader(train_dataset, batch_size=128, shuffle=True)\n",
        "test_loader = torch.utils.data.DataLoader(test_dataset, batch_size=128, shuffle=False)\n",
        "\n",
        "model = models.resnet18(pretrained=False, num_classes=100)\n",
        "device = torch.device('cuda' if torch.cuda.is_available() else 'cpu')\n",
        "model.to(device)\n",
        "\n",
        "criterion = torch.nn.CrossEntropyLoss()\n",
        "optimizer = torch.optim.SGD(model.parameters(), lr=0.1, momentum=0.9, weight_decay=1e-4)\n",
        "\n",
        "num_epochs = 100\n",
        "for epoch in range(num_epochs):\n",
        "    \n",
        "    for images, labels in train_loader:\n",
        "        \n",
        "        if torch.cuda.is_available():\n",
        "            images = images.cuda()\n",
        "            labels = labels.cuda()\n",
        "\n",
        "        optimizer.zero_grad()\n",
        "        \n",
        "        outputs = model(images)\n",
        "        loss = criterion(outputs, labels)\n",
        "\n",
        "        loss.backward()\n",
        "        optimizer.step()\n",
        "\n",
        "    with torch.no_grad():\n",
        "        correct = 0\n",
        "        total = 0\n",
        "        for images, labels in test_loader:\n",
        "            if torch.cuda.is_available():\n",
        "                images = images.cuda()\n",
        "                labels = labels.cuda()\n",
        "\n",
        "            outputs = model(images)\n",
        "            _, predicted = torch.max(outputs.data, 1)\n",
        "            total += labels.size(0)\n",
        "            correct += (predicted == labels).sum().item()\n",
        "\n",
        "        accuracy = 100 * correct / total\n",
        "        print(f\"Epoch [{epoch + 1}/{num_epochs}], Test Accuracy: {accuracy:.2f}%\")\n"
      ]
    },
    {
      "cell_type": "code",
      "execution_count": null,
      "metadata": {
        "id": "0OXfNsWSgjiB"
      },
      "outputs": [],
      "source": [
        "torch.save(model.state_dict(), 'model18.pt')\n"
      ]
    }
  ],
  "metadata": {
    "accelerator": "GPU",
    "colab": {
      "provenance": []
    },
    "gpuClass": "standard",
    "kernelspec": {
      "display_name": "Python 3",
      "name": "python3"
    },
    "language_info": {
      "name": "python"
    }
  },
  "nbformat": 4,
  "nbformat_minor": 0
}
